{
 "cells": [
  {
   "cell_type": "code",
   "execution_count": 2,
   "metadata": {},
   "outputs": [],
   "source": [
    "import os\n",
    "import json\n",
    "import time\n",
    "import random\n",
    "import lxml\n",
    "import requests\n",
    "import json\n",
    "import time\n",
    "import sys\n",
    "import re\n",
    "import os\n",
    "from requests.exceptions import RequestException\n",
    "from bs4 import BeautifulSoup as bsoup\n",
    "import random\n",
    "import pandas as pd"
   ]
  },
  {
   "cell_type": "code",
   "execution_count": 3,
   "metadata": {},
   "outputs": [],
   "source": [
    "from contextlib import closing\n",
    "from selenium import webdriver\n",
    "from selenium.webdriver.common.keys import Keys\n",
    "from selenium.webdriver.support.ui import WebDriverWait\n",
    "from selenium.webdriver.common.by import By\n",
    "from selenium.webdriver.support import expected_conditions as EC\n",
    "from selenium.common.exceptions import WebDriverException"
   ]
  },
  {
   "cell_type": "code",
   "execution_count": 19,
   "metadata": {},
   "outputs": [],
   "source": [
    "\n",
    "delhi_phd = pd.read_html(\"http://www.cse.iitd.ac.in/index.php/2011-12-29-23-14-30/alumni/phd-alumni\", header=0, parse_dates=['Year'])"
   ]
  },
  {
   "cell_type": "code",
   "execution_count": null,
   "metadata": {},
   "outputs": [],
   "source": [
    "delhi_faculty=pd.read_html(\"http://www.cse.iitd.ac.in/index.php/2011-12-29-23-14-30/faculty\",skiprows=[0,2])"
   ]
  },
  {
   "cell_type": "code",
   "execution_count": 6,
   "metadata": {},
   "outputs": [],
   "source": [
    "def simple_get(url):\n",
    "    try:\n",
    "        with closing(requests.Session().get(url, stream=True)) as resp:\n",
    "            if is_good_response(resp):\n",
    "                return resp.content\n",
    "            else:\n",
    "                return None\n",
    "    except RequestException as e:\n",
    "        log_error('Error during requests to {0} : {1}'.format(url, str(e)))\n",
    "        return None\n",
    "\n",
    "def is_good_response(resp):\n",
    "    content_type = resp.headers['Content-Type'].lower()\n",
    "    return (resp.status_code == 200 \n",
    "            and content_type is not None \n",
    "            and content_type.find('html') > -1)\n",
    "\n",
    "def log_error(e):\n",
    "    print(e)"
   ]
  },
  {
   "cell_type": "code",
   "execution_count": 12,
   "metadata": {},
   "outputs": [
    {
     "data": {
      "text/plain": [
       "array([['Neha Sengupta',\n",
       "        'Algorithms For Massive And Dynamic Graph Data Management',\n",
       "        Timestamp('2019-01-01 00:00:00'),\n",
       "        'Research Associate at Inception Institute of Artificial Intelligence, Abu Dhabi UAE'],\n",
       "       ['Suvam Patra',\n",
       "        'Robust Scene Geometry Recovery From Ego-Cameras For Visual Navigation',\n",
       "        Timestamp('2019-01-01 00:00:00'),\n",
       "        'Research Engineer at Scape Technologies'],\n",
       "       ['Ankit Anand',\n",
       "        'Symmetry Aware Inference And Decision Making In Probabilistic Models',\n",
       "        Timestamp('2019-01-01 00:00:00'),\n",
       "        'Research Scientist at Google DeepMind Montreal'],\n",
       "       ['Jatin Batra', 'Dynamic Programming For Scheduling Problems',\n",
       "        Timestamp('2019-01-01 00:00:00'), 'Post Doc at CWI, Amsterdam']],\n",
       "      dtype=object)"
      ]
     },
     "execution_count": 12,
     "metadata": {},
     "output_type": "execute_result"
    }
   ],
   "source": [
    "delhi_phd[0].values[1:5]"
   ]
  },
  {
   "cell_type": "code",
   "execution_count": 7,
   "metadata": {},
   "outputs": [],
   "source": [
    "#url='http://eprint.iitd.ac.in/browse?type=title'\n",
    "supervisor_all=[]\n",
    "subject_all=[]\n",
    "inst_all=[]\n",
    "key_all=[]\n",
    "name_all=[]\n",
    "base_url='http://eprint.iitd.ac.in'\n",
    "for t in delhi_phd[0]['Thesis Title'].values:\n",
    "    thesis=t\n",
    "    search_url=\"http://eprint.iitd.ac.in/discover?scope=2074%2F7856&&query={0}&submit=\".format(thesis)\n",
    "    search_item=simple_get(search_url)\n",
    "    if search_item is not None:\n",
    "        supervisor=[]\n",
    "        subject=[]\n",
    "        inst=[]\n",
    "        key=[]\n",
    "        name=[]\n",
    "        search_item_soup=bsoup(search_item,'html.parser')\n",
    "        handle=search_item_soup.find('div', attrs={'class':\"col-sm-9 artifact-description\"})\n",
    "        if handle is not None:\n",
    "            handle=handle.find('a',href=True)['href']\n",
    "            url=base_url+handle\n",
    "            time.sleep(random.randint(20,25))\n",
    "            search_item2=simple_get(url)\n",
    "            if search_item2 is not None:\n",
    "                search_item2_soup=bsoup(search_item2,'html.parser')\n",
    "                content=search_item2_soup.find_all(\"meta\")\n",
    "                for a in content:\n",
    "                    if a.attrs.get('name')==\"DC.contributor\":\n",
    "                        supervisor.append(a['content'])\n",
    "                    elif a.attrs.get('name')==\"DC.subject\":\n",
    "                        subject.append(a['content'])\n",
    "                    elif a.attrs.get('name')==\"citation_dissertation_institution\":\n",
    "                        inst.append(a['content'])\n",
    "                    elif a.attrs.get('name')==\"citation_keywords\":\n",
    "                        key.append(a['content'])\n",
    "                    elif a.attrs.get('name')==\"DC.creator\":\n",
    "                        name.append(a['content'])\n",
    "                    else:\n",
    "                        continue\n",
    "    supervisor_all.append(supervisor)\n",
    "    subject_all.append(subject)\n",
    "    inst_all.append(inst)\n",
    "    key_all.append(key)\n",
    "    name_all.append(name)"
   ]
  },
  {
   "cell_type": "code",
   "execution_count": 20,
   "metadata": {},
   "outputs": [],
   "source": [
    "delhi_phd=delhi_phd[0]"
   ]
  },
  {
   "cell_type": "code",
   "execution_count": 21,
   "metadata": {},
   "outputs": [
    {
     "data": {
      "text/plain": [
       "104"
      ]
     },
     "execution_count": 21,
     "metadata": {},
     "output_type": "execute_result"
    }
   ],
   "source": [
    "len(delhi_phd)"
   ]
  },
  {
   "cell_type": "code",
   "execution_count": null,
   "metadata": {},
   "outputs": [],
   "source": []
  },
  {
   "cell_type": "code",
   "execution_count": 22,
   "metadata": {},
   "outputs": [],
   "source": [
    "delhi_phd['guide']=[\"|\".join(a).replace('\\t',' ') for a in supervisor_all]\n",
    "delhi_phd['subject']=[\"|\".join(a).replace('\\t',' ') for a in subject_all]\n",
    "delhi_phd['inst']=[\"|\".join(a).replace('\\t',' ') for a in inst_all]\n",
    "delhi_phd['key']=[\"|\".join(a).replace('\\t',' ') for a in key_all]\n",
    "delhi_phd['student']=[\"|\".join(a).replace('\\t',' ') for a in name_all]\n",
    "delhi_phd.to_csv('college/iit_delhi.csv', sep='\\t', index=False, escapechar='/')"
   ]
  },
  {
   "cell_type": "code",
   "execution_count": null,
   "metadata": {},
   "outputs": [],
   "source": []
  },
  {
   "cell_type": "code",
   "execution_count": null,
   "metadata": {},
   "outputs": [],
   "source": []
  },
  {
   "cell_type": "code",
   "execution_count": 37,
   "metadata": {},
   "outputs": [],
   "source": [
    "res=0\n",
    "for a, b in zip(name_all,supervisor_all):\n",
    "    if len(a) != 0 and len(b) != 0:\n",
    "        res+=1\n",
    "    else:\n",
    "        continue"
   ]
  },
  {
   "cell_type": "code",
   "execution_count": null,
   "metadata": {},
   "outputs": [],
   "source": []
  },
  {
   "cell_type": "code",
   "execution_count": 40,
   "metadata": {},
   "outputs": [],
   "source": [
    "flat_list = [item for sublist in supervisor_all for item in sublist]"
   ]
  },
  {
   "cell_type": "code",
   "execution_count": null,
   "metadata": {},
   "outputs": [],
   "source": []
  },
  {
   "cell_type": "code",
   "execution_count": null,
   "metadata": {},
   "outputs": [],
   "source": []
  }
 ],
 "metadata": {
  "kernelspec": {
   "display_name": "Python 3",
   "language": "python",
   "name": "python3"
  },
  "language_info": {
   "codemirror_mode": {
    "name": "ipython",
    "version": 3
   },
   "file_extension": ".py",
   "mimetype": "text/x-python",
   "name": "python",
   "nbconvert_exporter": "python",
   "pygments_lexer": "ipython3",
   "version": "3.6.8"
  }
 },
 "nbformat": 4,
 "nbformat_minor": 2
}
