{
 "cells": [
  {
   "cell_type": "code",
   "execution_count": 2,
   "metadata": {},
   "outputs": [],
   "source": [
    "from googlesearch import search \n",
    "from bs4 import BeautifulSoup as soup"
   ]
  },
  {
   "cell_type": "code",
   "execution_count": 22,
   "metadata": {},
   "outputs": [
    {
     "name": "stdout",
     "output_type": "stream",
     "text": [
      "https://www.geeksforgeeks.org/\n",
      "https://www.geeksforgeeks.org/data-structures/\n",
      "https://www.geeksforgeeks.org/python-programming-language/\n",
      "https://www.geeksforgeeks.org/java/\n",
      "https://www.geeksforgeeks.org/company-preparation/\n",
      "https://www.geeksforgeeks.org/c-programming-language/\n",
      "https://www.geeksforgeeks.org/fundamentals-of-algorithms/\n",
      "https://www.youtube.com/channel/UC0RhatS1pyxInC00YKjjBqQ\n",
      "https://in.linkedin.com/company/geeksforgeeks\n",
      "https://in.linkedin.com/in/sandeep-jain-b3940815\n"
     ]
    }
   ],
   "source": [
    "query = \"Alan turing And \"\n",
    "\n",
    "try: \n",
    "    res=search(query, tld=\"co.in\", num=10, start=0,stop=10, pause=2)\n",
    "except ImportError:  \n",
    "    print(\"error searching\") \n",
    "for j in res:\n",
    "    print(j) "
   ]
  },
  {
   "cell_type": "code",
   "execution_count": 30,
   "metadata": {},
   "outputs": [],
   "source": [
    "from google import google\n",
    "num_page = 3\n",
    "search_results = google.search(query,num_page)"
   ]
  },
  {
   "cell_type": "code",
   "execution_count": 62,
   "metadata": {},
   "outputs": [
    {
     "name": "stdout",
     "output_type": "stream",
     "text": [
      "1. Wikipedia:Search engine test - Wikipedia\n",
      "https://en.wikipedia.org/wiki/Wikipedia:Search_engine_test\n",
      " \n",
      "2. Wikipedia:Search engine test - Wikipedia\n",
      "https://en.wikipedia.org/wiki/Wikipedia:Search_engine_test#Search_engine_tests\n",
      " \n",
      "3. Wikipedia:Search engine test - Wikipedia\n",
      "https://en.wikipedia.org/wiki/Wikipedia:Search_engine_test#Search_engine_tests_and_Wikipedia_policies\n",
      " \n",
      "4. Wikipedia:Search engine test - Wikipedia\n",
      "https://en.wikipedia.org/wiki/Wikipedia:Search_engine_test#Using_search_engines\n",
      " \n"
     ]
    }
   ],
   "source": [
    "import requests\n",
    "from bs4 import BeautifulSoup\n",
    "\n",
    "def google_scrape(url):\n",
    "    thepage = requests.get(url)\n",
    "    soup = BeautifulSoup(thepage.text, \"html.parser\")\n",
    "    return soup.title.text\n",
    "\n",
    "i = 1\n",
    "query = 'search this'\n",
    "for url in search(query, stop=10):\n",
    "    if 'Wikipedia' in url:\n",
    "        a = google_scrape(url)\n",
    "        print(str(i) + \". \" + a)\n",
    "        print(url)\n",
    "        print (\" \")\n",
    "        i += 1"
   ]
  },
  {
   "cell_type": "code",
   "execution_count": null,
   "metadata": {},
   "outputs": [],
   "source": []
  },
  {
   "cell_type": "code",
   "execution_count": 50,
   "metadata": {},
   "outputs": [],
   "source": [
    "search_word=\"search term\"\n",
    "encode=urllib.request.quote(search_word)"
   ]
  },
  {
   "cell_type": "code",
   "execution_count": 51,
   "metadata": {},
   "outputs": [
    {
     "data": {
      "text/plain": [
       "'search%20term'"
      ]
     },
     "execution_count": 51,
     "metadata": {},
     "output_type": "execute_result"
    }
   ],
   "source": [
    "encode"
   ]
  },
  {
   "cell_type": "code",
   "execution_count": null,
   "metadata": {},
   "outputs": [],
   "source": []
  },
  {
   "cell_type": "code",
   "execution_count": null,
   "metadata": {},
   "outputs": [],
   "source": []
  }
 ],
 "metadata": {
  "kernelspec": {
   "display_name": "Python 3",
   "language": "python",
   "name": "python3"
  },
  "language_info": {
   "codemirror_mode": {
    "name": "ipython",
    "version": 3
   },
   "file_extension": ".py",
   "mimetype": "text/x-python",
   "name": "python",
   "nbconvert_exporter": "python",
   "pygments_lexer": "ipython3",
   "version": "3.6.8"
  }
 },
 "nbformat": 4,
 "nbformat_minor": 2
}
